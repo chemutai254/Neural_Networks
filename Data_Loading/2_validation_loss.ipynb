{
 "cells": [
  {
   "cell_type": "code",
   "execution_count": null,
   "metadata": {
    "id": "LFqKS3MUn3SV"
   },
   "outputs": [],
   "source": [
    "import torch\n",
    "import torch.nn as nn\n",
    "import torch.nn.functional as F\n",
    "\n",
    "# Use CUDA if available\n",
    "device = torch.device(\"cuda\" if torch.cuda.is_available() else \"cpu\")"
   ]
  },
  {
   "cell_type": "code",
   "execution_count": null,
   "metadata": {
    "colab": {
     "base_uri": "https://localhost:8080/"
    },
    "id": "G--geLpuGyMh",
    "outputId": "d99b9162-8881-4882-8bfb-5538537de642"
   },
   "outputs": [],
   "source": [
    "print(f\"Using device: {device}\")"
   ]
  },
  {
   "cell_type": "code",
   "execution_count": null,
   "metadata": {
    "id": "jxIIWw-SnB5Y"
   },
   "outputs": [],
   "source": [
    "from pathlib import Path\n",
    "\n",
    "text = Path('tiny-shakespeare.txt').read_text()"
   ]
  },
  {
   "cell_type": "code",
   "execution_count": null,
   "metadata": {
    "colab": {
     "base_uri": "https://localhost:8080/",
     "height": 71
    },
    "id": "0VLz69yjnw2o",
    "outputId": "b2694a32-29fc-4f0c-f865-080d3e15fac7"
   },
   "outputs": [],
   "source": [
    "text[0:1000]"
   ]
  },
  {
   "cell_type": "code",
   "execution_count": null,
   "metadata": {
    "id": "_UgD3Grenz14"
   },
   "outputs": [],
   "source": [
    "class CharTokenizer:\n",
    "  def __init__(self, vocabulary):\n",
    "    self.id_for_char = {chr: id for id, chr in enumerate(vocabulary)}\n",
    "    self.char_for_id = {id: chr for id, chr in enumerate(vocabulary)}\n",
    "\n",
    "  @staticmethod\n",
    "  def train_from_text(text):\n",
    "    vocabulary = set(text)\n",
    "    return CharTokenizer(vocabulary)\n",
    "\n",
    "  def encode(self, text):\n",
    "    ids = []\n",
    "    for chr in text:\n",
    "      ids.append(self.id_for_char[chr])\n",
    "    return torch.tensor(ids, dtype=torch.long)\n",
    "\n",
    "  def decode(self, ids):\n",
    "    chars = []\n",
    "    for id in ids.tolist():\n",
    "      chars.append(self.char_for_id[id])\n",
    "    return ''.join(chars)\n",
    "\n",
    "  def vocabulary_size(self):\n",
    "    return len(self.id_for_char)"
   ]
  },
  {
   "cell_type": "code",
   "execution_count": null,
   "metadata": {
    "id": "jzojdlPGoEW5"
   },
   "outputs": [],
   "source": [
    "tokenizer = CharTokenizer.train_from_text(text)"
   ]
  },
  {
   "cell_type": "code",
   "execution_count": null,
   "metadata": {
    "colab": {
     "base_uri": "https://localhost:8080/"
    },
    "id": "LzDBcwbUoE1P",
    "outputId": "4752e4fd-aa28-4ac1-f451-6adc4c82f91d"
   },
   "outputs": [],
   "source": [
    "print(tokenizer.encode(\"Hello world\"))\n",
    "print(tokenizer.decode(tokenizer.encode(\"Hello world\")))"
   ]
  },
  {
   "cell_type": "code",
   "execution_count": null,
   "metadata": {
    "colab": {
     "base_uri": "https://localhost:8080/"
    },
    "id": "0OrxL5deo4bF",
    "outputId": "81ec34f1-7b3a-4227-dc2a-652d31a5ab17"
   },
   "outputs": [],
   "source": [
    "tokenizer.vocabulary_size()"
   ]
  },
  {
   "cell_type": "code",
   "execution_count": null,
   "metadata": {
    "id": "VYRVbj03oOx3"
   },
   "outputs": [],
   "source": [
    "config = {\n",
    "  \"vocabulary_size\": tokenizer.vocabulary_size(),\n",
    "  \"context_size\": 256,\n",
    "  \"d_embed\": 768,\n",
    "  \"heads_num\": 12,\n",
    "  \"layers_num\": 10,\n",
    "  \"dropout_rate\": 0.1,\n",
    "  \"use_bias\": False,\n",
    "}\n",
    "\n",
    "config[\"head_size\"] = config[\"d_embed\"] // config[\"heads_num\"]"
   ]
  },
  {
   "cell_type": "code",
   "execution_count": null,
   "metadata": {
    "id": "RrWYPruToqvR"
   },
   "outputs": [],
   "source": [
    "class AttentionHead(nn.Module):\n",
    "  def __init__(self, config):\n",
    "    super().__init__()\n",
    "    self.Q_weights = nn.Linear(config[\"d_embed\"], config[\"head_size\"], config[\"use_bias\"])\n",
    "    self.K_weights = nn.Linear(config[\"d_embed\"], config[\"head_size\"], config[\"use_bias\"])\n",
    "    self.V_weights = nn.Linear(config[\"d_embed\"], config[\"head_size\"], config[\"use_bias\"])\n",
    "\n",
    "    self.dropout = nn.Dropout(config[\"dropout_rate\"])\n",
    "\n",
    "    casual_attention_mask = torch.tril(torch.ones(config[\"context_size\"], config[\"context_size\"]))\n",
    "    self.register_buffer('casual_attention_mask', casual_attention_mask)\n",
    "\n",
    "  def forward(self, input):\n",
    "    batch_size, tokens_num, d_embed = input.shape\n",
    "    Q = self.Q_weights(input)\n",
    "    K = self.K_weights(input)\n",
    "    V = self.V_weights(input)\n",
    "\n",
    "    attention_scores = Q @ K.transpose(1, 2)\n",
    "    attention_scores = attention_scores.masked_fill(\n",
    "        self.casual_attention_mask[:tokens_num,:tokens_num] == 0,\n",
    "        -torch.inf\n",
    "    )\n",
    "    attention_scores = attention_scores / ( K.shape[-1] ** 0.5 )\n",
    "    attention_scores = torch.softmax(attention_scores, dim=-1)\n",
    "    attention_scores = self.dropout(attention_scores)\n",
    "\n",
    "    return attention_scores @ V"
   ]
  },
  {
   "cell_type": "code",
   "execution_count": null,
   "metadata": {
    "id": "t8S71GS2tA4e"
   },
   "outputs": [],
   "source": [
    "input = torch.rand(8, config[\"context_size\"], config[\"d_embed\"])"
   ]
  },
  {
   "cell_type": "code",
   "execution_count": null,
   "metadata": {
    "id": "w9w5jllYtQDg"
   },
   "outputs": [],
   "source": [
    "ah = AttentionHead(config)"
   ]
  },
  {
   "cell_type": "code",
   "execution_count": null,
   "metadata": {
    "id": "0aIfd3p6tZQT"
   },
   "outputs": [],
   "source": [
    "output = ah(input)"
   ]
  },
  {
   "cell_type": "code",
   "execution_count": null,
   "metadata": {
    "colab": {
     "base_uri": "https://localhost:8080/"
    },
    "id": "HwWzNlCbtpqS",
    "outputId": "23e2e646-38ff-4b25-b068-a83ba4d441d1"
   },
   "outputs": [],
   "source": [
    "output.shape"
   ]
  },
  {
   "cell_type": "code",
   "execution_count": null,
   "metadata": {
    "id": "DZWsVllwtqxT"
   },
   "outputs": [],
   "source": [
    "class MultiHeadAttention(nn.Module):\n",
    "  def __init__(self, config):\n",
    "    super().__init__()\n",
    "\n",
    "    heads_list = [AttentionHead(config) for _ in range(config[\"heads_num\"])]\n",
    "    self.heads = nn.ModuleList(heads_list)\n",
    "\n",
    "    self.linear = nn.Linear(config[\"d_embed\"], config[\"d_embed\"])\n",
    "    self.dropout = nn.Dropout(config[\"dropout_rate\"])\n",
    "\n",
    "  def forward(self, input):\n",
    "    # print(f\"Input shape: {input.shape}\")\n",
    "    heads_outputs = [head(input) for head in self.heads]\n",
    "\n",
    "    scores_change = torch.cat(heads_outputs, dim=-1)\n",
    "    # print(f\"heads shape: {scores_change.shape}\")\n",
    "\n",
    "    scores_change = self.linear(scores_change)\n",
    "    return self.dropout(scores_change)"
   ]
  },
  {
   "cell_type": "code",
   "execution_count": null,
   "metadata": {
    "id": "W2Jr19vavTVn"
   },
   "outputs": [],
   "source": [
    "mha = MultiHeadAttention(config)"
   ]
  },
  {
   "cell_type": "code",
   "execution_count": null,
   "metadata": {
    "id": "1wtjKkI7vYN6"
   },
   "outputs": [],
   "source": [
    "output = mha(input)"
   ]
  },
  {
   "cell_type": "code",
   "execution_count": null,
   "metadata": {
    "colab": {
     "base_uri": "https://localhost:8080/"
    },
    "id": "pvkaEey4vab4",
    "outputId": "745b2585-4b49-4583-9600-959e20860ff5"
   },
   "outputs": [],
   "source": [
    "output.shape"
   ]
  },
  {
   "cell_type": "code",
   "execution_count": null,
   "metadata": {
    "id": "hZHNEnFIxB5x"
   },
   "outputs": [],
   "source": [
    "class FeedForward(nn.Module):\n",
    "\n",
    "  def __init__(self, config):\n",
    "    super().__init__()\n",
    "\n",
    "    self.linear_layers = nn.Sequential(\n",
    "        nn.Linear(config[\"d_embed\"], config[\"d_embed\"] * 4),\n",
    "        nn.GELU(),\n",
    "        nn.Linear(config[\"d_embed\"] * 4, config[\"d_embed\"]),\n",
    "        nn.Dropout(config[\"dropout_rate\"])\n",
    "    )\n",
    "\n",
    "  def forward(self, input):\n",
    "    return self.linear_layers(input)"
   ]
  },
  {
   "cell_type": "code",
   "execution_count": null,
   "metadata": {
    "id": "OcTlmfouxl-D"
   },
   "outputs": [],
   "source": [
    "ff = FeedForward(config)"
   ]
  },
  {
   "cell_type": "code",
   "execution_count": null,
   "metadata": {
    "id": "nQBT9zbxxpKp"
   },
   "outputs": [],
   "source": [
    "ouptut = ff(input)"
   ]
  },
  {
   "cell_type": "code",
   "execution_count": null,
   "metadata": {
    "colab": {
     "base_uri": "https://localhost:8080/"
    },
    "id": "SalDPWNJxu-D",
    "outputId": "09aff9e5-ed3c-41a2-a269-b40647fcbb12"
   },
   "outputs": [],
   "source": [
    "output.shape"
   ]
  },
  {
   "cell_type": "code",
   "execution_count": null,
   "metadata": {
    "id": "34EW5ap1vbL3"
   },
   "outputs": [],
   "source": [
    "class Block(nn.Module):\n",
    "\n",
    "  def __init__(self, config):\n",
    "    super().__init__()\n",
    "\n",
    "    self.multi_head = MultiHeadAttention(config)\n",
    "    self.layer_norm_1 = nn.LayerNorm(config[\"d_embed\"])\n",
    "\n",
    "    self.feed_forward = FeedForward(config)\n",
    "    self.layer_norm_2 = nn.LayerNorm(config[\"d_embed\"])\n",
    "\n",
    "  def forward(self, input):\n",
    "    residual = input\n",
    "    x = self.multi_head(self.layer_norm_1(input))\n",
    "    x = x + residual\n",
    "\n",
    "    residual = x\n",
    "    x = self.feed_forward(self.layer_norm_2(x))\n",
    "    return x + residual"
   ]
  },
  {
   "cell_type": "code",
   "execution_count": null,
   "metadata": {
    "id": "Et9RTGaCwwDt"
   },
   "outputs": [],
   "source": [
    "b = Block(config)"
   ]
  },
  {
   "cell_type": "code",
   "execution_count": null,
   "metadata": {
    "id": "b98zcw8SzQ1u"
   },
   "outputs": [],
   "source": [
    "ouptut = b(input)"
   ]
  },
  {
   "cell_type": "code",
   "execution_count": null,
   "metadata": {
    "colab": {
     "base_uri": "https://localhost:8080/"
    },
    "id": "LfXbvOyBzURF",
    "outputId": "45444f24-cd9e-42a9-bc95-9ea05871732e"
   },
   "outputs": [],
   "source": [
    "output.shape"
   ]
  },
  {
   "cell_type": "code",
   "execution_count": null,
   "metadata": {
    "id": "EtjjqoIgzatJ"
   },
   "outputs": [],
   "source": [
    "class DemoGPT(nn.Module):\n",
    "  def __init__(self, config):\n",
    "    super().__init__()\n",
    "\n",
    "    self.token_embedding_layer = nn.Embedding(config[\"vocabulary_size\"], config[\"d_embed\"])\n",
    "    self.positional_embedding_layer = nn.Embedding(config[\"context_size\"], config[\"d_embed\"])\n",
    "\n",
    "    blocks = [Block(config) for _ in range(config[\"layers_num\"])]\n",
    "    self.layers = nn.Sequential(*blocks)\n",
    "\n",
    "    self.layer_norm = nn.LayerNorm(config[\"d_embed\"])\n",
    "    self.unembedding = nn.Linear(config[\"d_embed\"], config[\"vocabulary_size\"], bias=False)\n",
    "\n",
    "  def forward(self, token_ids):\n",
    "    # print(\"Forward\")\n",
    "    batch_size, tokens_num = token_ids.shape\n",
    "\n",
    "    x = self.token_embedding_layer(token_ids)\n",
    "    sequence = torch.arange(tokens_num, device=device)\n",
    "    x = x + self.positional_embedding_layer(sequence)\n",
    "\n",
    "    x = self.layers(x)\n",
    "    x = self.layer_norm(x)\n",
    "    x = self.unembedding(x)\n",
    "\n",
    "    return x\n"
   ]
  },
  {
   "cell_type": "code",
   "execution_count": null,
   "metadata": {
    "id": "uYYWZwL112Uo"
   },
   "outputs": [],
   "source": [
    "model = DemoGPT(config).to(device)"
   ]
  },
  {
   "cell_type": "code",
   "execution_count": null,
   "metadata": {
    "id": "usnIT5rc8U83"
   },
   "outputs": [],
   "source": [
    "output = model(tokenizer.encode(\"Hi\").unsqueeze(dim=0).to(device))"
   ]
  },
  {
   "cell_type": "code",
   "execution_count": null,
   "metadata": {
    "colab": {
     "base_uri": "https://localhost:8080/"
    },
    "id": "z4xjqmhH8fwS",
    "outputId": "c10eaf47-7bc3-4e69-9c0f-4ee6bfe2b68a"
   },
   "outputs": [],
   "source": [
    "output.shape"
   ]
  },
  {
   "cell_type": "code",
   "execution_count": null,
   "metadata": {
    "id": "xv9oaMSF1t4E"
   },
   "outputs": [],
   "source": [
    "def generate(model, prompt_ids, max_tokens):\n",
    "    output_ids = prompt_ids\n",
    "    for _ in range(max_tokens):\n",
    "      # print(f\"Prompt : {output_ids}\")\n",
    "      if output_ids.shape[1] >= config[\"context_size\"]:\n",
    "        break\n",
    "      with torch.no_grad():\n",
    "        logits = model(output_ids)\n",
    "\n",
    "      logits = logits[:, -1, :]\n",
    "      probs = F.softmax(logits, dim=-1)\n",
    "      # Sample a random token given the softmax distribution\n",
    "      next_token_id = torch.multinomial(probs, num_samples=1)\n",
    "      # Add new token to the output, and repeat the process\n",
    "      output_ids = torch.cat([output_ids, next_token_id], dim=-1)\n",
    "    return output_ids"
   ]
  },
  {
   "cell_type": "code",
   "execution_count": null,
   "metadata": {
    "id": "IdchDPMc1_eR"
   },
   "outputs": [],
   "source": [
    "def generate_with_prompt(model, tokenizer, prompt, max_tokens=100):\n",
    "  model.eval()\n",
    "\n",
    "  prompt = tokenizer.encode(prompt).unsqueeze(dim=0).to(device)\n",
    "\n",
    "  return tokenizer.decode(generate(model, prompt, max_tokens=max_tokens)[0])"
   ]
  },
  {
   "cell_type": "code",
   "execution_count": null,
   "metadata": {
    "colab": {
     "base_uri": "https://localhost:8080/",
     "height": 35
    },
    "id": "OVwOE5mD2I8I",
    "outputId": "049c4db1-f9a4-4b93-8054-a90a99e88dfe"
   },
   "outputs": [],
   "source": [
    "generate_with_prompt(model, tokenizer, \"First Citizen:\\n\")"
   ]
  },
  {
   "cell_type": "code",
   "execution_count": null,
   "metadata": {
    "id": "sbwUNyzLEY_V"
   },
   "outputs": [],
   "source": [
    "train_split = 0.9\n",
    "batch_size = 64\n",
    "\n",
    "train_iterations = 5000\n",
    "evaluation_interval = 10\n",
    "learning_rate=4e-4"
   ]
  },
  {
   "cell_type": "code",
   "execution_count": null,
   "metadata": {
    "id": "_ws_6UtPFlJm"
   },
   "outputs": [],
   "source": [
    "tokenized_text = tokenizer.encode(text).to(device)\n",
    "train_count = int(train_split * len(tokenized_text))\n",
    "train_data, validation_data = tokenized_text[:train_count], tokenized_text[train_count:]"
   ]
  },
  {
   "cell_type": "code",
   "execution_count": null,
   "metadata": {
    "id": "0OBL7ScrFpmm"
   },
   "outputs": [],
   "source": [
    "import torch\n",
    "from torch.utils.data import Dataset, DataLoader, RandomSampler\n",
    "\n",
    "class IdsDataset(Dataset):\n",
    "    def __init__(self, data, block_size):\n",
    "        self.data = data\n",
    "        self.block_size = block_size\n",
    "\n",
    "    def __len__(self):\n",
    "        # Ensure all sequences generated are complete by reducing length\n",
    "        return len(self.data) - self.block_size\n",
    "\n",
    "    def __getitem__(self, index):\n",
    "        # The index will be adjusted to ensure all sequences can be generated\n",
    "        idx = index % (len(self.data) - self.block_size)\n",
    "        x = self.data[idx:idx + self.block_size]\n",
    "        y = self.data[idx + 1:idx + 1 + self.block_size]\n",
    "        return x, y"
   ]
  },
  {
   "cell_type": "code",
   "execution_count": null,
   "metadata": {
    "id": "migsregsFsvy"
   },
   "outputs": [],
   "source": [
    "train_dataset = IdsDataset(train_data, config[\"context_size\"])\n",
    "validation_dataset = IdsDataset(validation_data, config[\"context_size\"])"
   ]
  },
  {
   "cell_type": "code",
   "execution_count": null,
   "metadata": {
    "id": "svfXWKfvFuHJ"
   },
   "outputs": [],
   "source": [
    "from torch.utils.data import Dataset, DataLoader, RandomSampler\n",
    "\n",
    "train_sampler = RandomSampler(train_dataset, num_samples=batch_size * train_iterations, replacement=True)\n",
    "train_dataloader = DataLoader(train_dataset, batch_size=batch_size, sampler=train_sampler)\n",
    "\n",
    "validation_sampler = RandomSampler(validation_dataset, replacement=True)\n",
    "validation_dataloader = DataLoader(validation_dataset, batch_size=batch_size, sampler=validation_sampler)"
   ]
  },
  {
   "cell_type": "code",
   "execution_count": null,
   "metadata": {
    "id": "WRQZHrU7DSvQ"
   },
   "outputs": [],
   "source": [
    "@torch.no_grad()\n",
    "def calculate_validation_loss(model, batches_num):\n",
    "  model.eval()\n",
    "  total_loss = 0\n",
    "\n",
    "  validation_iter = iter(validation_dataloader)\n",
    "\n",
    "  for _ in range(batches_num):\n",
    "    idx, targets = next(validation_iter)\n",
    "    logits = model(idx)\n",
    "\n",
    "    logits_view = logits.view(batch_size * config[\"context_size\"], config[\"vocabulary_size\"])\n",
    "    # print(f\"Logits view shape: {logits_view.shape}\")\n",
    "    targets_view = targets.view(batch_size * config[\"context_size\"])\n",
    "    # print(f\"Targets view shape: {targets_view.shape}\")\n",
    "    loss = F.cross_entropy(logits_view, targets_view)\n",
    "\n",
    "    # loss = F.cross_entropy(logits, targets)\n",
    "    total_loss += loss.item()\n",
    "\n",
    "  average_loss = total_loss / batches_num\n",
    "\n",
    "  return average_loss"
   ]
  },
  {
   "cell_type": "code",
   "execution_count": null,
   "metadata": {
    "id": "TZjODcofK_pm"
   },
   "outputs": [],
   "source": [
    "optimizer = torch.optim.AdamW(model.parameters(), lr=learning_rate)"
   ]
  },
  {
   "cell_type": "code",
   "execution_count": null,
   "metadata": {
    "colab": {
     "base_uri": "https://localhost:8080/"
    },
    "id": "yL6dGJMeD1hc",
    "outputId": "311d9aa1-bf14-4bd7-bde0-6b163b585acc"
   },
   "outputs": [],
   "source": [
    "# Remove it later!!\n",
    "\n",
    "# from google.colab import drive\n",
    "# drive.mount('/content/drive')\n",
    "\n",
    "%pip install ipywidgets"
   ]
  },
  {
   "cell_type": "code",
   "execution_count": null,
   "metadata": {
    "colab": {
     "base_uri": "https://localhost:8080/",
     "height": 1000,
     "referenced_widgets": [
      "1cf5fba0eef049e99319ed7c5ad7e4d0",
      "a29a0cb63db341d29f880cf94b524686"
     ]
    },
    "id": "7gEtDa6TF3RS",
    "outputId": "869a3fd3-861b-4270-c288-fabd31dfed6d"
   },
   "outputs": [],
   "source": [
    "\n",
    "import os\n",
    "from IPython.display import display, clear_output\n",
    "from matplotlib import pyplot as plt\n",
    "from IPython.display import display\n",
    "import ipywidgets as widgets\n",
    "%matplotlib inline\n",
    "\n",
    "# Create an output widget to handle the plot updates\n",
    "plot_output = widgets.Output()\n",
    "\n",
    "# Display the output widget once, outside of the function\n",
    "display(plot_output)\n",
    "\n",
    "def update_plot(train_losses, train_steps, validation_losses, validation_steps):\n",
    "\n",
    "  with plot_output:\n",
    "    clear_output(wait=True)  # Clear only the plot output, not the text\n",
    "    plt.figure(figsize=(7, 5))\n",
    "    plt.plot(train_steps, train_losses, label='Training Loss')\n",
    "    plt.plot(validation_steps, validation_losses, label='Validation Loss')\n",
    "    plt.title('Training and Validation Loss')\n",
    "    plt.xlabel('epoch')\n",
    "    plt.legend(loc='center left')\n",
    "    plt.grid(True)\n",
    "    plt.show()\n",
    "\n",
    "\n",
    "# Set up lists to store losses for plotting\n",
    "train_losses = []\n",
    "train_steps = []\n",
    "eval_losses = []\n",
    "eval_steps = []\n",
    "\n",
    "\n",
    "for step_num, sample in enumerate(train_dataloader):\n",
    "\n",
    "  model.train()\n",
    "  idx,  = sample\n",
    "  logits = model(idx)\n",
    "  # print(f\"Logits shape: {logits.shape}\")\n",
    "  # print(f\"Targets shape: {targets.shape}\")\n",
    "  logits_view = logits.view(batch_size * config[\"context_size\"], config[\"vocabulary_size\"])\n",
    "  # print(f\"Logits view shape: {logits_view.shape}\")\n",
    "  targets_view = targets.view(batch_size * config[\"context_size\"])\n",
    "  # print(f\"Targets view shape: {targets_view.shape}\")\n",
    "  loss = F.cross_entropy(logits_view, targets_view)\n",
    "  # Backward propagation\n",
    "  loss.backward()\n",
    "  # Update model parameters\n",
    "  optimizer.step()\n",
    "  # Set to None to reduce memory usage\n",
    "  optimizer.zero_grad(set_to_none=True)\n",
    "\n",
    "  train_losses.append(loss.item())\n",
    "  train_steps.append(step_num)\n",
    "\n",
    "  print(f\"Step {step_num}. Loss {loss.item():.3f}\")\n",
    "\n",
    "  if step_num % evaluation_interval == 0:\n",
    "    print(\"Demo GPT:\\n\" + generate_with_prompt(model, tokenizer, \"\\n\"))\n",
    "\n",
    "    validation_loss = calculate_validation_loss(model, batches_num=10)\n",
    "    eval_losses.append(validation_loss)\n",
    "    eval_steps.append(step_num)\n",
    "\n",
    "    print(f\"Step {step_num}. Validation loss: {validation_loss:.3f}\")\n",
    "\n",
    "\n",
    "  update_plot(train_losses, train_steps, eval_losses, eval_steps)\n",
    "\n",
    "  # if step_num in {100, 3000, 4000, 4999}:\n",
    "  #   dir = f\"/content/drive/MyDrive/demo-gpt/{step_num}\"\n",
    "  #   os.makedirs(dir)\n",
    "  #   torch.save({\n",
    "  #       \"model_state\": model.state_dict(),\n",
    "  #       # \"optimizer_state\": optimizer.state_dict(),\n",
    "  #   },\n",
    "  #   f\"{dir}/checkpoint.pth\",\n",
    "  # )\n",
    "\n",
    "\n"
   ]
  },
  {
   "cell_type": "code",
   "execution_count": null,
   "metadata": {
    "id": "bTIDvDvGMX2x"
   },
   "outputs": [],
   "source": []
  },
  {
   "cell_type": "code",
   "execution_count": null,
   "metadata": {
    "id": "UuUDzxZsMwgE"
   },
   "outputs": [],
   "source": [
    "checkpoint = torch.load(\"/content/drive/MyDrive/demo-gpt/4999/checkpoint.pth\")\n",
    "model = DemoGPT(config).to(device)\n",
    "model.load_state_dict(checkpoint[\"model_state\"])"
   ]
  },
  {
   "cell_type": "code",
   "execution_count": null,
   "metadata": {
    "id": "-kykxwaSGXMa"
   },
   "outputs": [],
   "source": [
    "print(generate_with_prompt(model, tokenizer, \"ROMEO:\\n\"))"
   ]
  },
  {
   "cell_type": "code",
   "execution_count": null,
   "metadata": {
    "id": "i2ENDY1JMyzV"
   },
   "outputs": [],
   "source": []
  }
 ],
 "metadata": {
  "accelerator": "GPU",
  "colab": {
   "gpuType": "L4",
   "machine_shape": "hm",
   "provenance": []
  },
  "kernelspec": {
   "display_name": "Python 3",
   "name": "python3"
  },
  "language_info": {
   "codemirror_mode": {
    "name": "ipython",
    "version": 3
   },
   "file_extension": ".py",
   "mimetype": "text/x-python",
   "name": "python",
   "nbconvert_exporter": "python",
   "pygments_lexer": "ipython3",
   "version": "3.12.9"
  },
  "widgets": {
   "application/vnd.jupyter.widget-state+json": {
    "1cf5fba0eef049e99319ed7c5ad7e4d0": {
     "model_module": "@jupyter-widgets/output",
     "model_module_version": "1.0.0",
     "model_name": "OutputModel",
     "state": {
      "_dom_classes": [],
      "_model_module": "@jupyter-widgets/output",
      "_model_module_version": "1.0.0",
      "_model_name": "OutputModel",
      "_view_count": null,
      "_view_module": "@jupyter-widgets/output",
      "_view_module_version": "1.0.0",
      "_view_name": "OutputView",
      "layout": "IPY_MODEL_a29a0cb63db341d29f880cf94b524686",
      "msg_id": "",
      "outputs": [
       {
        "data": {
         "image/png": "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\n",
         "text/plain": "<Figure size 700x500 with 1 Axes>"
        },
        "metadata": {},
        "output_type": "display_data"
       }
      ]
     }
    },
    "a29a0cb63db341d29f880cf94b524686": {
     "model_module": "@jupyter-widgets/base",
     "model_module_version": "1.2.0",
     "model_name": "LayoutModel",
     "state": {
      "_model_module": "@jupyter-widgets/base",
      "_model_module_version": "1.2.0",
      "_model_name": "LayoutModel",
      "_view_count": null,
      "_view_module": "@jupyter-widgets/base",
      "_view_module_version": "1.2.0",
      "_view_name": "LayoutView",
      "align_content": null,
      "align_items": null,
      "align_self": null,
      "border": null,
      "bottom": null,
      "display": null,
      "flex": null,
      "flex_flow": null,
      "grid_area": null,
      "grid_auto_columns": null,
      "grid_auto_flow": null,
      "grid_auto_rows": null,
      "grid_column": null,
      "grid_gap": null,
      "grid_row": null,
      "grid_template_areas": null,
      "grid_template_columns": null,
      "grid_template_rows": null,
      "height": null,
      "justify_content": null,
      "justify_items": null,
      "left": null,
      "margin": null,
      "max_height": null,
      "max_width": null,
      "min_height": null,
      "min_width": null,
      "object_fit": null,
      "object_position": null,
      "order": null,
      "overflow": null,
      "overflow_x": null,
      "overflow_y": null,
      "padding": null,
      "right": null,
      "top": null,
      "visibility": null,
      "width": null
     }
    }
   }
  }
 },
 "nbformat": 4,
 "nbformat_minor": 0
}
